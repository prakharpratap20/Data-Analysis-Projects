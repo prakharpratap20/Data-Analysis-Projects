{
 "cells": [
  {
   "cell_type": "code",
   "execution_count": null,
   "metadata": {},
   "outputs": [],
   "source": [
    "import pandas as pd\n",
    "import json"
   ]
  },
  {
   "cell_type": "code",
   "execution_count": null,
   "metadata": {},
   "outputs": [],
   "source": [
    "with open(\"blockbusters.json\") as f:\n",
    "    data = json.load(f)"
   ]
  },
  {
   "cell_type": "code",
   "execution_count": null,
   "metadata": {},
   "outputs": [],
   "source": [
    "data"
   ]
  },
  {
   "cell_type": "code",
   "execution_count": null,
   "metadata": {},
   "outputs": [],
   "source": [
    "type(data)"
   ]
  },
  {
   "cell_type": "code",
   "execution_count": null,
   "metadata": {},
   "outputs": [],
   "source": [
    "len(data)"
   ]
  },
  {
   "cell_type": "code",
   "execution_count": null,
   "metadata": {},
   "outputs": [],
   "source": [
    "data[0]"
   ]
  },
  {
   "cell_type": "code",
   "execution_count": null,
   "metadata": {},
   "outputs": [],
   "source": [
    "df = pd.DataFrame(data)\n",
    "df"
   ]
  },
  {
   "cell_type": "code",
   "execution_count": null,
   "metadata": {},
   "outputs": [],
   "source": [
    "df = pd.read_json(\"blockbusters.json\")"
   ]
  },
  {
   "cell_type": "code",
   "execution_count": null,
   "metadata": {},
   "outputs": [],
   "source": [
    "df.info()"
   ]
  },
  {
   "cell_type": "code",
   "execution_count": null,
   "metadata": {},
   "outputs": [],
   "source": [
    "df.genres[0]"
   ]
  },
  {
   "cell_type": "code",
   "execution_count": null,
   "metadata": {},
   "outputs": [],
   "source": [
    "df.belongs_to_collection[0]"
   ]
  },
  {
   "cell_type": "code",
   "execution_count": null,
   "metadata": {},
   "outputs": [],
   "source": [
    "pd.json_normalize(data= data, sep = \"_\")"
   ]
  },
  {
   "cell_type": "code",
   "execution_count": null,
   "metadata": {},
   "outputs": [],
   "source": [
    "pd.json_normalize(data = data, sep = \"_\").genres[0]"
   ]
  },
  {
   "cell_type": "code",
   "execution_count": null,
   "metadata": {},
   "outputs": [],
   "source": [
    "pd.json_normalize(data = data, record_path= \"genres\", meta= [\"title\", \"id\"], record_prefix= \"genre_\")"
   ]
  },
  {
   "cell_type": "markdown",
   "metadata": {},
   "source": [
    "Working With APIs and JSON "
   ]
  },
  {
   "cell_type": "code",
   "execution_count": null,
   "metadata": {},
   "outputs": [],
   "source": [
    "import pandas as pd \n",
    "import requests\n",
    "pd.options.display.max_columns = 30"
   ]
  },
  {
   "cell_type": "code",
   "execution_count": null,
   "metadata": {},
   "outputs": [],
   "source": [
    "api_key = \"api_key=Enter your Api Key \""
   ]
  },
  {
   "cell_type": "code",
   "execution_count": null,
   "metadata": {},
   "outputs": [],
   "source": [
    "movie_id = 140607"
   ]
  },
  {
   "cell_type": "code",
   "execution_count": null,
   "metadata": {},
   "outputs": [],
   "source": [
    "movie_api = \"https://api.themoviedb.org/3/movie/{}?\"\n",
    "movie_api"
   ]
  },
  {
   "cell_type": "code",
   "execution_count": null,
   "metadata": {},
   "outputs": [],
   "source": [
    "url = movie_api.format(movie_id) + api_key\n",
    "url"
   ]
  },
  {
   "cell_type": "code",
   "execution_count": null,
   "metadata": {},
   "outputs": [],
   "source": [
    "r = requests.get(url)\n",
    "r"
   ]
  },
  {
   "cell_type": "code",
   "execution_count": null,
   "metadata": {},
   "outputs": [],
   "source": [
    "data = r.json()\n",
    "data"
   ]
  },
  {
   "cell_type": "code",
   "execution_count": null,
   "metadata": {},
   "outputs": [],
   "source": [
    "type(data)"
   ]
  },
  {
   "cell_type": "code",
   "execution_count": null,
   "metadata": {},
   "outputs": [],
   "source": [
    "pd.Series(data)"
   ]
  },
  {
   "cell_type": "code",
   "execution_count": null,
   "metadata": {},
   "outputs": [],
   "source": [
    "df = pd.Series(data).to_frame().T\n",
    "df"
   ]
  },
  {
   "cell_type": "code",
   "execution_count": null,
   "metadata": {},
   "outputs": [],
   "source": [
    "pd.json_normalize(data, sep= \"_\")"
   ]
  },
  {
   "cell_type": "code",
   "execution_count": null,
   "metadata": {},
   "outputs": [],
   "source": [
    "pd.json_normalize(data = data, record_path= \"genres\", meta = \"title\")"
   ]
  },
  {
   "cell_type": "code",
   "execution_count": null,
   "metadata": {},
   "outputs": [],
   "source": [
    "pd.json_normalize(data = data, record_path= \"production_companies\", meta = \"title\")"
   ]
  },
  {
   "cell_type": "markdown",
   "metadata": {},
   "source": [
    "part 2"
   ]
  },
  {
   "cell_type": "code",
   "execution_count": null,
   "metadata": {},
   "outputs": [],
   "source": [
    "discover_api = \"https://api.themoviedb.org/3/discover/movie?\""
   ]
  },
  {
   "cell_type": "code",
   "execution_count": null,
   "metadata": {},
   "outputs": [],
   "source": [
    "query = \"&primary_release_date.gte=2020-01-01&primary_release_date.lte=2023-01-01\""
   ]
  },
  {
   "cell_type": "code",
   "execution_count": null,
   "metadata": {},
   "outputs": [],
   "source": [
    "url = discover_api+api_key+query"
   ]
  },
  {
   "cell_type": "code",
   "execution_count": null,
   "metadata": {},
   "outputs": [],
   "source": [
    "data = requests.get(url).json()\n",
    "data"
   ]
  },
  {
   "cell_type": "code",
   "execution_count": null,
   "metadata": {},
   "outputs": [],
   "source": [
    "pd.DataFrame(data)"
   ]
  },
  {
   "cell_type": "code",
   "execution_count": null,
   "metadata": {},
   "outputs": [],
   "source": [
    "pd.DataFrame(data[\"results\"])"
   ]
  },
  {
   "cell_type": "code",
   "execution_count": null,
   "metadata": {},
   "outputs": [],
   "source": [
    "movie_id = [0, 299534, 19995, 140607, 299536, 597, 135397,\n",
    "            420818, 24428, 168259, 99861, 284054, 12445,\n",
    "            181808, 330457, 351286, 109445, 321612, 260513]"
   ]
  },
  {
   "cell_type": "code",
   "execution_count": null,
   "metadata": {},
   "outputs": [],
   "source": [
    "basic_url = \"https://api.themoviedb.org/3/movie/{}?{}\""
   ]
  },
  {
   "cell_type": "code",
   "execution_count": null,
   "metadata": {},
   "outputs": [],
   "source": [
    "json_list = []\n",
    "for movie in movie_id:\n",
    "    url = basic_url.format(movie, api_key)\n",
    "    r = requests.get(url)\n",
    "    if r.status_code != 200:\n",
    "        continue\n",
    "    else:\n",
    "        data = r.json()\n",
    "        json_list.append(data)\n",
    "df = pd.DataFrame(json_list)"
   ]
  },
  {
   "cell_type": "code",
   "execution_count": null,
   "metadata": {},
   "outputs": [],
   "source": [
    "requests.get(basic_url.format(0, api_key)).status_code"
   ]
  },
  {
   "cell_type": "code",
   "execution_count": null,
   "metadata": {},
   "outputs": [],
   "source": [
    "df"
   ]
  },
  {
   "cell_type": "code",
   "execution_count": null,
   "metadata": {},
   "outputs": [],
   "source": [
    "df = df.loc[:, [\"title\", \"id\", \"revenue\", \"genres\", \"belongs_to_collection\", \"runtime\"]].sort_values(by = \"revenue\", \n",
    "                                                                                                     ascending= False)"
   ]
  },
  {
   "cell_type": "code",
   "execution_count": null,
   "metadata": {},
   "outputs": [],
   "source": [
    "df"
   ]
  },
  {
   "cell_type": "code",
   "execution_count": null,
   "metadata": {},
   "outputs": [],
   "source": [
    "df.to_json(\"movies.json\", orient=\"records\")"
   ]
  },
  {
   "cell_type": "code",
   "execution_count": null,
   "metadata": {},
   "outputs": [],
   "source": [
    "with open(\"movies.json\") as f:\n",
    "    data = json.load(f)"
   ]
  },
  {
   "cell_type": "code",
   "execution_count": null,
   "metadata": {},
   "outputs": [],
   "source": [
    "pd.json_normalize(data)"
   ]
  },
  {
   "cell_type": "code",
   "execution_count": null,
   "metadata": {},
   "outputs": [],
   "source": [
    "pd.json_normalize(data, \"genres\", \"title\")"
   ]
  },
  {
   "cell_type": "markdown",
   "metadata": {},
   "source": [
    "Importing and Saving the Movies Dataset (Real World Scenarios)"
   ]
  },
  {
   "cell_type": "code",
   "execution_count": 184,
   "metadata": {},
   "outputs": [
    {
     "data": {
      "text/html": [
       "<div>\n",
       "<style scoped>\n",
       "    .dataframe tbody tr th:only-of-type {\n",
       "        vertical-align: middle;\n",
       "    }\n",
       "\n",
       "    .dataframe tbody tr th {\n",
       "        vertical-align: top;\n",
       "    }\n",
       "\n",
       "    .dataframe thead th {\n",
       "        text-align: right;\n",
       "    }\n",
       "</style>\n",
       "<table border=\"1\" class=\"dataframe\">\n",
       "  <thead>\n",
       "    <tr style=\"text-align: right;\">\n",
       "      <th></th>\n",
       "      <th>title</th>\n",
       "      <th>id</th>\n",
       "      <th>revenue</th>\n",
       "      <th>genres</th>\n",
       "      <th>belongs_to_collection</th>\n",
       "      <th>runtime</th>\n",
       "    </tr>\n",
       "  </thead>\n",
       "  <tbody>\n",
       "    <tr>\n",
       "      <th>1</th>\n",
       "      <td>Avatar</td>\n",
       "      <td>19995</td>\n",
       "      <td>2923706026</td>\n",
       "      <td>[{'id': 28, 'name': 'Action'}, {'id': 12, 'nam...</td>\n",
       "      <td>{'id': 87096, 'name': 'Avatar Collection', 'po...</td>\n",
       "      <td>162</td>\n",
       "    </tr>\n",
       "    <tr>\n",
       "      <th>0</th>\n",
       "      <td>Avengers: Endgame</td>\n",
       "      <td>299534</td>\n",
       "      <td>2800000000</td>\n",
       "      <td>[{'id': 12, 'name': 'Adventure'}, {'id': 878, ...</td>\n",
       "      <td>{'id': 86311, 'name': 'The Avengers Collection...</td>\n",
       "      <td>181</td>\n",
       "    </tr>\n",
       "    <tr>\n",
       "      <th>4</th>\n",
       "      <td>Titanic</td>\n",
       "      <td>597</td>\n",
       "      <td>2264162353</td>\n",
       "      <td>[{'id': 18, 'name': 'Drama'}, {'id': 10749, 'n...</td>\n",
       "      <td>None</td>\n",
       "      <td>194</td>\n",
       "    </tr>\n",
       "    <tr>\n",
       "      <th>2</th>\n",
       "      <td>Star Wars: The Force Awakens</td>\n",
       "      <td>140607</td>\n",
       "      <td>2068223624</td>\n",
       "      <td>[{'id': 12, 'name': 'Adventure'}, {'id': 28, '...</td>\n",
       "      <td>{'id': 10, 'name': 'Star Wars Collection', 'po...</td>\n",
       "      <td>136</td>\n",
       "    </tr>\n",
       "    <tr>\n",
       "      <th>3</th>\n",
       "      <td>Avengers: Infinity War</td>\n",
       "      <td>299536</td>\n",
       "      <td>2052415039</td>\n",
       "      <td>[{'id': 12, 'name': 'Adventure'}, {'id': 28, '...</td>\n",
       "      <td>{'id': 86311, 'name': 'The Avengers Collection...</td>\n",
       "      <td>149</td>\n",
       "    </tr>\n",
       "    <tr>\n",
       "      <th>5</th>\n",
       "      <td>Jurassic World</td>\n",
       "      <td>135397</td>\n",
       "      <td>1671537444</td>\n",
       "      <td>[{'id': 28, 'name': 'Action'}, {'id': 12, 'nam...</td>\n",
       "      <td>{'id': 328, 'name': 'Jurassic Park Collection'...</td>\n",
       "      <td>124</td>\n",
       "    </tr>\n",
       "    <tr>\n",
       "      <th>6</th>\n",
       "      <td>The Lion King</td>\n",
       "      <td>420818</td>\n",
       "      <td>1663075401</td>\n",
       "      <td>[{'id': 12, 'name': 'Adventure'}, {'id': 18, '...</td>\n",
       "      <td>{'id': 762512, 'name': 'The Lion King (Reboot)...</td>\n",
       "      <td>118</td>\n",
       "    </tr>\n",
       "    <tr>\n",
       "      <th>7</th>\n",
       "      <td>The Avengers</td>\n",
       "      <td>24428</td>\n",
       "      <td>1518815515</td>\n",
       "      <td>[{'id': 878, 'name': 'Science Fiction'}, {'id'...</td>\n",
       "      <td>{'id': 86311, 'name': 'The Avengers Collection...</td>\n",
       "      <td>143</td>\n",
       "    </tr>\n",
       "    <tr>\n",
       "      <th>8</th>\n",
       "      <td>Furious 7</td>\n",
       "      <td>168259</td>\n",
       "      <td>1515341399</td>\n",
       "      <td>[{'id': 28, 'name': 'Action'}, {'id': 53, 'nam...</td>\n",
       "      <td>{'id': 9485, 'name': 'The Fast and the Furious...</td>\n",
       "      <td>137</td>\n",
       "    </tr>\n",
       "    <tr>\n",
       "      <th>13</th>\n",
       "      <td>Frozen II</td>\n",
       "      <td>330457</td>\n",
       "      <td>1450026933</td>\n",
       "      <td>[{'id': 10751, 'name': 'Family'}, {'id': 16, '...</td>\n",
       "      <td>{'id': 386382, 'name': 'Frozen Collection', 'p...</td>\n",
       "      <td>103</td>\n",
       "    </tr>\n",
       "    <tr>\n",
       "      <th>9</th>\n",
       "      <td>Avengers: Age of Ultron</td>\n",
       "      <td>99861</td>\n",
       "      <td>1405403694</td>\n",
       "      <td>[{'id': 28, 'name': 'Action'}, {'id': 12, 'nam...</td>\n",
       "      <td>{'id': 86311, 'name': 'The Avengers Collection...</td>\n",
       "      <td>141</td>\n",
       "    </tr>\n",
       "    <tr>\n",
       "      <th>10</th>\n",
       "      <td>Black Panther</td>\n",
       "      <td>284054</td>\n",
       "      <td>1349926083</td>\n",
       "      <td>[{'id': 28, 'name': 'Action'}, {'id': 12, 'nam...</td>\n",
       "      <td>{'id': 529892, 'name': 'Black Panther Collecti...</td>\n",
       "      <td>135</td>\n",
       "    </tr>\n",
       "    <tr>\n",
       "      <th>11</th>\n",
       "      <td>Harry Potter and the Deathly Hallows: Part 2</td>\n",
       "      <td>12445</td>\n",
       "      <td>1341511219</td>\n",
       "      <td>[{'id': 14, 'name': 'Fantasy'}, {'id': 12, 'na...</td>\n",
       "      <td>{'id': 1241, 'name': 'Harry Potter Collection'...</td>\n",
       "      <td>130</td>\n",
       "    </tr>\n",
       "    <tr>\n",
       "      <th>12</th>\n",
       "      <td>Star Wars: The Last Jedi</td>\n",
       "      <td>181808</td>\n",
       "      <td>1332698830</td>\n",
       "      <td>[{'id': 12, 'name': 'Adventure'}, {'id': 28, '...</td>\n",
       "      <td>{'id': 10, 'name': 'Star Wars Collection', 'po...</td>\n",
       "      <td>152</td>\n",
       "    </tr>\n",
       "    <tr>\n",
       "      <th>14</th>\n",
       "      <td>Jurassic World: Fallen Kingdom</td>\n",
       "      <td>351286</td>\n",
       "      <td>1310466296</td>\n",
       "      <td>[{'id': 28, 'name': 'Action'}, {'id': 12, 'nam...</td>\n",
       "      <td>{'id': 328, 'name': 'Jurassic Park Collection'...</td>\n",
       "      <td>129</td>\n",
       "    </tr>\n",
       "    <tr>\n",
       "      <th>15</th>\n",
       "      <td>Frozen</td>\n",
       "      <td>109445</td>\n",
       "      <td>1274219009</td>\n",
       "      <td>[{'id': 16, 'name': 'Animation'}, {'id': 10751...</td>\n",
       "      <td>{'id': 386382, 'name': 'Frozen Collection', 'p...</td>\n",
       "      <td>102</td>\n",
       "    </tr>\n",
       "    <tr>\n",
       "      <th>16</th>\n",
       "      <td>Beauty and the Beast</td>\n",
       "      <td>321612</td>\n",
       "      <td>1266115964</td>\n",
       "      <td>[{'id': 10751, 'name': 'Family'}, {'id': 14, '...</td>\n",
       "      <td>None</td>\n",
       "      <td>129</td>\n",
       "    </tr>\n",
       "    <tr>\n",
       "      <th>17</th>\n",
       "      <td>Incredibles 2</td>\n",
       "      <td>260513</td>\n",
       "      <td>1242805359</td>\n",
       "      <td>[{'id': 28, 'name': 'Action'}, {'id': 12, 'nam...</td>\n",
       "      <td>{'id': 468222, 'name': 'The Incredibles Collec...</td>\n",
       "      <td>118</td>\n",
       "    </tr>\n",
       "  </tbody>\n",
       "</table>\n",
       "</div>"
      ],
      "text/plain": [
       "                                           title      id     revenue  \\\n",
       "1                                         Avatar   19995  2923706026   \n",
       "0                              Avengers: Endgame  299534  2800000000   \n",
       "4                                        Titanic     597  2264162353   \n",
       "2                   Star Wars: The Force Awakens  140607  2068223624   \n",
       "3                         Avengers: Infinity War  299536  2052415039   \n",
       "5                                 Jurassic World  135397  1671537444   \n",
       "6                                  The Lion King  420818  1663075401   \n",
       "7                                   The Avengers   24428  1518815515   \n",
       "8                                      Furious 7  168259  1515341399   \n",
       "13                                     Frozen II  330457  1450026933   \n",
       "9                        Avengers: Age of Ultron   99861  1405403694   \n",
       "10                                 Black Panther  284054  1349926083   \n",
       "11  Harry Potter and the Deathly Hallows: Part 2   12445  1341511219   \n",
       "12                      Star Wars: The Last Jedi  181808  1332698830   \n",
       "14                Jurassic World: Fallen Kingdom  351286  1310466296   \n",
       "15                                        Frozen  109445  1274219009   \n",
       "16                          Beauty and the Beast  321612  1266115964   \n",
       "17                                 Incredibles 2  260513  1242805359   \n",
       "\n",
       "                                               genres  \\\n",
       "1   [{'id': 28, 'name': 'Action'}, {'id': 12, 'nam...   \n",
       "0   [{'id': 12, 'name': 'Adventure'}, {'id': 878, ...   \n",
       "4   [{'id': 18, 'name': 'Drama'}, {'id': 10749, 'n...   \n",
       "2   [{'id': 12, 'name': 'Adventure'}, {'id': 28, '...   \n",
       "3   [{'id': 12, 'name': 'Adventure'}, {'id': 28, '...   \n",
       "5   [{'id': 28, 'name': 'Action'}, {'id': 12, 'nam...   \n",
       "6   [{'id': 12, 'name': 'Adventure'}, {'id': 18, '...   \n",
       "7   [{'id': 878, 'name': 'Science Fiction'}, {'id'...   \n",
       "8   [{'id': 28, 'name': 'Action'}, {'id': 53, 'nam...   \n",
       "13  [{'id': 10751, 'name': 'Family'}, {'id': 16, '...   \n",
       "9   [{'id': 28, 'name': 'Action'}, {'id': 12, 'nam...   \n",
       "10  [{'id': 28, 'name': 'Action'}, {'id': 12, 'nam...   \n",
       "11  [{'id': 14, 'name': 'Fantasy'}, {'id': 12, 'na...   \n",
       "12  [{'id': 12, 'name': 'Adventure'}, {'id': 28, '...   \n",
       "14  [{'id': 28, 'name': 'Action'}, {'id': 12, 'nam...   \n",
       "15  [{'id': 16, 'name': 'Animation'}, {'id': 10751...   \n",
       "16  [{'id': 10751, 'name': 'Family'}, {'id': 14, '...   \n",
       "17  [{'id': 28, 'name': 'Action'}, {'id': 12, 'nam...   \n",
       "\n",
       "                                belongs_to_collection  runtime  \n",
       "1   {'id': 87096, 'name': 'Avatar Collection', 'po...      162  \n",
       "0   {'id': 86311, 'name': 'The Avengers Collection...      181  \n",
       "4                                                None      194  \n",
       "2   {'id': 10, 'name': 'Star Wars Collection', 'po...      136  \n",
       "3   {'id': 86311, 'name': 'The Avengers Collection...      149  \n",
       "5   {'id': 328, 'name': 'Jurassic Park Collection'...      124  \n",
       "6   {'id': 762512, 'name': 'The Lion King (Reboot)...      118  \n",
       "7   {'id': 86311, 'name': 'The Avengers Collection...      143  \n",
       "8   {'id': 9485, 'name': 'The Fast and the Furious...      137  \n",
       "13  {'id': 386382, 'name': 'Frozen Collection', 'p...      103  \n",
       "9   {'id': 86311, 'name': 'The Avengers Collection...      141  \n",
       "10  {'id': 529892, 'name': 'Black Panther Collecti...      135  \n",
       "11  {'id': 1241, 'name': 'Harry Potter Collection'...      130  \n",
       "12  {'id': 10, 'name': 'Star Wars Collection', 'po...      152  \n",
       "14  {'id': 328, 'name': 'Jurassic Park Collection'...      129  \n",
       "15  {'id': 386382, 'name': 'Frozen Collection', 'p...      102  \n",
       "16                                               None      129  \n",
       "17  {'id': 468222, 'name': 'The Incredibles Collec...      118  "
      ]
     },
     "execution_count": 184,
     "metadata": {},
     "output_type": "execute_result"
    }
   ],
   "source": [
    "df"
   ]
  },
  {
   "cell_type": "code",
   "execution_count": 185,
   "metadata": {},
   "outputs": [],
   "source": [
    "df.to_csv(\"movies_raw.csv\", index=False)"
   ]
  },
  {
   "cell_type": "code",
   "execution_count": 186,
   "metadata": {},
   "outputs": [],
   "source": [
    "df = pd.read_csv(\"movies_raw.csv\")"
   ]
  },
  {
   "cell_type": "code",
   "execution_count": 187,
   "metadata": {},
   "outputs": [
    {
     "data": {
      "text/html": [
       "<div>\n",
       "<style scoped>\n",
       "    .dataframe tbody tr th:only-of-type {\n",
       "        vertical-align: middle;\n",
       "    }\n",
       "\n",
       "    .dataframe tbody tr th {\n",
       "        vertical-align: top;\n",
       "    }\n",
       "\n",
       "    .dataframe thead th {\n",
       "        text-align: right;\n",
       "    }\n",
       "</style>\n",
       "<table border=\"1\" class=\"dataframe\">\n",
       "  <thead>\n",
       "    <tr style=\"text-align: right;\">\n",
       "      <th></th>\n",
       "      <th>title</th>\n",
       "      <th>id</th>\n",
       "      <th>revenue</th>\n",
       "      <th>genres</th>\n",
       "      <th>belongs_to_collection</th>\n",
       "      <th>runtime</th>\n",
       "    </tr>\n",
       "  </thead>\n",
       "  <tbody>\n",
       "    <tr>\n",
       "      <th>0</th>\n",
       "      <td>Avatar</td>\n",
       "      <td>19995</td>\n",
       "      <td>2923706026</td>\n",
       "      <td>[{'id': 28, 'name': 'Action'}, {'id': 12, 'nam...</td>\n",
       "      <td>{'id': 87096, 'name': 'Avatar Collection', 'po...</td>\n",
       "      <td>162</td>\n",
       "    </tr>\n",
       "    <tr>\n",
       "      <th>1</th>\n",
       "      <td>Avengers: Endgame</td>\n",
       "      <td>299534</td>\n",
       "      <td>2800000000</td>\n",
       "      <td>[{'id': 12, 'name': 'Adventure'}, {'id': 878, ...</td>\n",
       "      <td>{'id': 86311, 'name': 'The Avengers Collection...</td>\n",
       "      <td>181</td>\n",
       "    </tr>\n",
       "    <tr>\n",
       "      <th>2</th>\n",
       "      <td>Titanic</td>\n",
       "      <td>597</td>\n",
       "      <td>2264162353</td>\n",
       "      <td>[{'id': 18, 'name': 'Drama'}, {'id': 10749, 'n...</td>\n",
       "      <td>NaN</td>\n",
       "      <td>194</td>\n",
       "    </tr>\n",
       "    <tr>\n",
       "      <th>3</th>\n",
       "      <td>Star Wars: The Force Awakens</td>\n",
       "      <td>140607</td>\n",
       "      <td>2068223624</td>\n",
       "      <td>[{'id': 12, 'name': 'Adventure'}, {'id': 28, '...</td>\n",
       "      <td>{'id': 10, 'name': 'Star Wars Collection', 'po...</td>\n",
       "      <td>136</td>\n",
       "    </tr>\n",
       "    <tr>\n",
       "      <th>4</th>\n",
       "      <td>Avengers: Infinity War</td>\n",
       "      <td>299536</td>\n",
       "      <td>2052415039</td>\n",
       "      <td>[{'id': 12, 'name': 'Adventure'}, {'id': 28, '...</td>\n",
       "      <td>{'id': 86311, 'name': 'The Avengers Collection...</td>\n",
       "      <td>149</td>\n",
       "    </tr>\n",
       "    <tr>\n",
       "      <th>5</th>\n",
       "      <td>Jurassic World</td>\n",
       "      <td>135397</td>\n",
       "      <td>1671537444</td>\n",
       "      <td>[{'id': 28, 'name': 'Action'}, {'id': 12, 'nam...</td>\n",
       "      <td>{'id': 328, 'name': 'Jurassic Park Collection'...</td>\n",
       "      <td>124</td>\n",
       "    </tr>\n",
       "    <tr>\n",
       "      <th>6</th>\n",
       "      <td>The Lion King</td>\n",
       "      <td>420818</td>\n",
       "      <td>1663075401</td>\n",
       "      <td>[{'id': 12, 'name': 'Adventure'}, {'id': 18, '...</td>\n",
       "      <td>{'id': 762512, 'name': 'The Lion King (Reboot)...</td>\n",
       "      <td>118</td>\n",
       "    </tr>\n",
       "    <tr>\n",
       "      <th>7</th>\n",
       "      <td>The Avengers</td>\n",
       "      <td>24428</td>\n",
       "      <td>1518815515</td>\n",
       "      <td>[{'id': 878, 'name': 'Science Fiction'}, {'id'...</td>\n",
       "      <td>{'id': 86311, 'name': 'The Avengers Collection...</td>\n",
       "      <td>143</td>\n",
       "    </tr>\n",
       "    <tr>\n",
       "      <th>8</th>\n",
       "      <td>Furious 7</td>\n",
       "      <td>168259</td>\n",
       "      <td>1515341399</td>\n",
       "      <td>[{'id': 28, 'name': 'Action'}, {'id': 53, 'nam...</td>\n",
       "      <td>{'id': 9485, 'name': 'The Fast and the Furious...</td>\n",
       "      <td>137</td>\n",
       "    </tr>\n",
       "    <tr>\n",
       "      <th>9</th>\n",
       "      <td>Frozen II</td>\n",
       "      <td>330457</td>\n",
       "      <td>1450026933</td>\n",
       "      <td>[{'id': 10751, 'name': 'Family'}, {'id': 16, '...</td>\n",
       "      <td>{'id': 386382, 'name': 'Frozen Collection', 'p...</td>\n",
       "      <td>103</td>\n",
       "    </tr>\n",
       "    <tr>\n",
       "      <th>10</th>\n",
       "      <td>Avengers: Age of Ultron</td>\n",
       "      <td>99861</td>\n",
       "      <td>1405403694</td>\n",
       "      <td>[{'id': 28, 'name': 'Action'}, {'id': 12, 'nam...</td>\n",
       "      <td>{'id': 86311, 'name': 'The Avengers Collection...</td>\n",
       "      <td>141</td>\n",
       "    </tr>\n",
       "    <tr>\n",
       "      <th>11</th>\n",
       "      <td>Black Panther</td>\n",
       "      <td>284054</td>\n",
       "      <td>1349926083</td>\n",
       "      <td>[{'id': 28, 'name': 'Action'}, {'id': 12, 'nam...</td>\n",
       "      <td>{'id': 529892, 'name': 'Black Panther Collecti...</td>\n",
       "      <td>135</td>\n",
       "    </tr>\n",
       "    <tr>\n",
       "      <th>12</th>\n",
       "      <td>Harry Potter and the Deathly Hallows: Part 2</td>\n",
       "      <td>12445</td>\n",
       "      <td>1341511219</td>\n",
       "      <td>[{'id': 14, 'name': 'Fantasy'}, {'id': 12, 'na...</td>\n",
       "      <td>{'id': 1241, 'name': 'Harry Potter Collection'...</td>\n",
       "      <td>130</td>\n",
       "    </tr>\n",
       "    <tr>\n",
       "      <th>13</th>\n",
       "      <td>Star Wars: The Last Jedi</td>\n",
       "      <td>181808</td>\n",
       "      <td>1332698830</td>\n",
       "      <td>[{'id': 12, 'name': 'Adventure'}, {'id': 28, '...</td>\n",
       "      <td>{'id': 10, 'name': 'Star Wars Collection', 'po...</td>\n",
       "      <td>152</td>\n",
       "    </tr>\n",
       "    <tr>\n",
       "      <th>14</th>\n",
       "      <td>Jurassic World: Fallen Kingdom</td>\n",
       "      <td>351286</td>\n",
       "      <td>1310466296</td>\n",
       "      <td>[{'id': 28, 'name': 'Action'}, {'id': 12, 'nam...</td>\n",
       "      <td>{'id': 328, 'name': 'Jurassic Park Collection'...</td>\n",
       "      <td>129</td>\n",
       "    </tr>\n",
       "    <tr>\n",
       "      <th>15</th>\n",
       "      <td>Frozen</td>\n",
       "      <td>109445</td>\n",
       "      <td>1274219009</td>\n",
       "      <td>[{'id': 16, 'name': 'Animation'}, {'id': 10751...</td>\n",
       "      <td>{'id': 386382, 'name': 'Frozen Collection', 'p...</td>\n",
       "      <td>102</td>\n",
       "    </tr>\n",
       "    <tr>\n",
       "      <th>16</th>\n",
       "      <td>Beauty and the Beast</td>\n",
       "      <td>321612</td>\n",
       "      <td>1266115964</td>\n",
       "      <td>[{'id': 10751, 'name': 'Family'}, {'id': 14, '...</td>\n",
       "      <td>NaN</td>\n",
       "      <td>129</td>\n",
       "    </tr>\n",
       "    <tr>\n",
       "      <th>17</th>\n",
       "      <td>Incredibles 2</td>\n",
       "      <td>260513</td>\n",
       "      <td>1242805359</td>\n",
       "      <td>[{'id': 28, 'name': 'Action'}, {'id': 12, 'nam...</td>\n",
       "      <td>{'id': 468222, 'name': 'The Incredibles Collec...</td>\n",
       "      <td>118</td>\n",
       "    </tr>\n",
       "  </tbody>\n",
       "</table>\n",
       "</div>"
      ],
      "text/plain": [
       "                                           title      id     revenue  \\\n",
       "0                                         Avatar   19995  2923706026   \n",
       "1                              Avengers: Endgame  299534  2800000000   \n",
       "2                                        Titanic     597  2264162353   \n",
       "3                   Star Wars: The Force Awakens  140607  2068223624   \n",
       "4                         Avengers: Infinity War  299536  2052415039   \n",
       "5                                 Jurassic World  135397  1671537444   \n",
       "6                                  The Lion King  420818  1663075401   \n",
       "7                                   The Avengers   24428  1518815515   \n",
       "8                                      Furious 7  168259  1515341399   \n",
       "9                                      Frozen II  330457  1450026933   \n",
       "10                       Avengers: Age of Ultron   99861  1405403694   \n",
       "11                                 Black Panther  284054  1349926083   \n",
       "12  Harry Potter and the Deathly Hallows: Part 2   12445  1341511219   \n",
       "13                      Star Wars: The Last Jedi  181808  1332698830   \n",
       "14                Jurassic World: Fallen Kingdom  351286  1310466296   \n",
       "15                                        Frozen  109445  1274219009   \n",
       "16                          Beauty and the Beast  321612  1266115964   \n",
       "17                                 Incredibles 2  260513  1242805359   \n",
       "\n",
       "                                               genres  \\\n",
       "0   [{'id': 28, 'name': 'Action'}, {'id': 12, 'nam...   \n",
       "1   [{'id': 12, 'name': 'Adventure'}, {'id': 878, ...   \n",
       "2   [{'id': 18, 'name': 'Drama'}, {'id': 10749, 'n...   \n",
       "3   [{'id': 12, 'name': 'Adventure'}, {'id': 28, '...   \n",
       "4   [{'id': 12, 'name': 'Adventure'}, {'id': 28, '...   \n",
       "5   [{'id': 28, 'name': 'Action'}, {'id': 12, 'nam...   \n",
       "6   [{'id': 12, 'name': 'Adventure'}, {'id': 18, '...   \n",
       "7   [{'id': 878, 'name': 'Science Fiction'}, {'id'...   \n",
       "8   [{'id': 28, 'name': 'Action'}, {'id': 53, 'nam...   \n",
       "9   [{'id': 10751, 'name': 'Family'}, {'id': 16, '...   \n",
       "10  [{'id': 28, 'name': 'Action'}, {'id': 12, 'nam...   \n",
       "11  [{'id': 28, 'name': 'Action'}, {'id': 12, 'nam...   \n",
       "12  [{'id': 14, 'name': 'Fantasy'}, {'id': 12, 'na...   \n",
       "13  [{'id': 12, 'name': 'Adventure'}, {'id': 28, '...   \n",
       "14  [{'id': 28, 'name': 'Action'}, {'id': 12, 'nam...   \n",
       "15  [{'id': 16, 'name': 'Animation'}, {'id': 10751...   \n",
       "16  [{'id': 10751, 'name': 'Family'}, {'id': 14, '...   \n",
       "17  [{'id': 28, 'name': 'Action'}, {'id': 12, 'nam...   \n",
       "\n",
       "                                belongs_to_collection  runtime  \n",
       "0   {'id': 87096, 'name': 'Avatar Collection', 'po...      162  \n",
       "1   {'id': 86311, 'name': 'The Avengers Collection...      181  \n",
       "2                                                 NaN      194  \n",
       "3   {'id': 10, 'name': 'Star Wars Collection', 'po...      136  \n",
       "4   {'id': 86311, 'name': 'The Avengers Collection...      149  \n",
       "5   {'id': 328, 'name': 'Jurassic Park Collection'...      124  \n",
       "6   {'id': 762512, 'name': 'The Lion King (Reboot)...      118  \n",
       "7   {'id': 86311, 'name': 'The Avengers Collection...      143  \n",
       "8   {'id': 9485, 'name': 'The Fast and the Furious...      137  \n",
       "9   {'id': 386382, 'name': 'Frozen Collection', 'p...      103  \n",
       "10  {'id': 86311, 'name': 'The Avengers Collection...      141  \n",
       "11  {'id': 529892, 'name': 'Black Panther Collecti...      135  \n",
       "12  {'id': 1241, 'name': 'Harry Potter Collection'...      130  \n",
       "13  {'id': 10, 'name': 'Star Wars Collection', 'po...      152  \n",
       "14  {'id': 328, 'name': 'Jurassic Park Collection'...      129  \n",
       "15  {'id': 386382, 'name': 'Frozen Collection', 'p...      102  \n",
       "16                                                NaN      129  \n",
       "17  {'id': 468222, 'name': 'The Incredibles Collec...      118  "
      ]
     },
     "execution_count": 187,
     "metadata": {},
     "output_type": "execute_result"
    }
   ],
   "source": [
    "df\n"
   ]
  },
  {
   "cell_type": "code",
   "execution_count": 188,
   "metadata": {},
   "outputs": [
    {
     "data": {
      "text/plain": [
       "\"[{'id': 28, 'name': 'Action'}, {'id': 12, 'name': 'Adventure'}, {'id': 14, 'name': 'Fantasy'}, {'id': 878, 'name': 'Science Fiction'}]\""
      ]
     },
     "execution_count": 188,
     "metadata": {},
     "output_type": "execute_result"
    }
   ],
   "source": [
    "df.genres[0]"
   ]
  },
  {
   "cell_type": "code",
   "execution_count": null,
   "metadata": {},
   "outputs": [],
   "source": []
  }
 ],
 "metadata": {
  "kernelspec": {
   "display_name": "dataenv",
   "language": "python",
   "name": "python3"
  },
  "language_info": {
   "codemirror_mode": {
    "name": "ipython",
    "version": 3
   },
   "file_extension": ".py",
   "mimetype": "text/x-python",
   "name": "python",
   "nbconvert_exporter": "python",
   "pygments_lexer": "ipython3",
   "version": "3.11.4"
  },
  "orig_nbformat": 4
 },
 "nbformat": 4,
 "nbformat_minor": 2
}
